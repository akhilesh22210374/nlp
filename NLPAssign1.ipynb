{
  "nbformat": 4,
  "nbformat_minor": 0,
  "metadata": {
    "colab": {
      "provenance": [],
      "authorship_tag": "ABX9TyO6gQbS9PXabkhKVH1gs67h",
      "include_colab_link": true
    },
    "kernelspec": {
      "name": "python3",
      "display_name": "Python 3"
    },
    "language_info": {
      "name": "python"
    }
  },
  "cells": [
    {
      "cell_type": "markdown",
      "metadata": {
        "id": "view-in-github",
        "colab_type": "text"
      },
      "source": [
        "<a href=\"https://colab.research.google.com/github/Prafull009/NLP/blob/main/NLPAssign1.ipynb\" target=\"_parent\"><img src=\"https://colab.research.google.com/assets/colab-badge.svg\" alt=\"Open In Colab\"/></a>"
      ]
    },
    {
      "cell_type": "code",
      "execution_count": null,
      "metadata": {
        "colab": {
          "base_uri": "https://localhost:8080/"
        },
        "id": "qKFH6z8pKSNi",
        "outputId": "d449d011-b50a-4a9f-b5d1-31b09193c531"
      },
      "outputs": [
        {
          "output_type": "stream",
          "name": "stdout",
          "text": [
            "['Natural language processing (NLP) is a field of computer science, artificial intelligence and computational linguistics concerned with the interactions between computers and human (natural) languages, and, in particular, concerned with programming computers to fruitfully process large natural language corpora.', 'Challenges in natural language processing frequently involve natural language understanding, natural language generation (frequently from formal, machine-readable logical forms), connecting language and machine perception, managing human-computer dialog systems, or some combination thereof.']\n",
            "['Natural', 'language', 'processing', '(', 'NLP', ')', 'is', 'a', 'field', 'of', 'computer', 'science', ',', 'artificial', 'intelligence', 'and', 'computational', 'linguistics', 'concerned', 'with', 'the', 'interactions', 'between', 'computers', 'and', 'human', '(', 'natural', ')', 'languages', ',', 'and', ',', 'in', 'particular', ',', 'concerned', 'with', 'programming', 'computers', 'to', 'fruitfully', 'process', 'large', 'natural', 'language', 'corpora', '.', 'Challenges', 'in', 'natural', 'language', 'processing', 'frequently', 'involve', 'natural', 'language', 'understanding', ',', 'natural', 'language', 'generation', '(', 'frequently', 'from', 'formal', ',', 'machine-readable', 'logical', 'forms', ')', ',', 'connecting', 'language', 'and', 'machine', 'perception', ',', 'managing', 'human-computer', 'dialog', 'systems', ',', 'or', 'some', 'combination', 'thereof', '.']\n"
          ]
        },
        {
          "output_type": "stream",
          "name": "stderr",
          "text": [
            "[nltk_data] Downloading package punkt_tab to /root/nltk_data...\n",
            "[nltk_data]   Unzipping tokenizers/punkt_tab.zip.\n"
          ]
        }
      ],
      "source": [
        "from nltk import sent_tokenize, word_tokenize\n",
        "import nltk\n",
        "nltk.download('punkt_tab')\n",
        "text = \"Natural language processing (NLP) is a field of computer science, artificial intelligence and computational linguistics concerned with the interactions between computers and human (natural) languages, and, in particular, concerned with programming computers to fruitfully process large natural language corpora. Challenges in natural language processing frequently involve natural language understanding, natural language generation (frequently from formal, machine-readable logical forms), connecting language and machine perception, managing human-computer dialog systems, or some combination thereof.\"\n",
        "print(sent_tokenize(text))\n",
        "print(word_tokenize(text))"
      ]
    },
    {
      "cell_type": "code",
      "source": [
        "from nltk import WhitespaceTokenizer, PunktSentenceTokenizer, TreebankWordTokenizer, TweetTokenizer, MWETokenizer\n",
        "\n",
        "tokenizer = WhitespaceTokenizer()\n",
        "print(tokenizer.tokenize(text))\n",
        "\n",
        "tokenizer = PunktSentenceTokenizer()\n",
        "print(tokenizer.tokenize(text))\n",
        "\n",
        "tokenizer = TreebankWordTokenizer()\n",
        "print(tokenizer.tokenize(text))\n",
        "\n",
        "tokenizer = TweetTokenizer()\n",
        "print(tokenizer.tokenize(text))\n",
        "\n",
        "tokenizer = MWETokenizer()\n",
        "tokenizer.add_mwe(('natural', 'language'))\n",
        "print(tokenizer.tokenize(word_tokenize(text)))"
      ],
      "metadata": {
        "colab": {
          "base_uri": "https://localhost:8080/"
        },
        "id": "PS745X1MMmj3",
        "outputId": "895fc7ed-89cd-48b5-b7d1-f6ae6d9986e7"
      },
      "execution_count": null,
      "outputs": [
        {
          "output_type": "stream",
          "name": "stdout",
          "text": [
            "['Natural', 'language', 'processing', '(NLP)', 'is', 'a', 'field', 'of', 'computer', 'science,', 'artificial', 'intelligence', 'and', 'computational', 'linguistics', 'concerned', 'with', 'the', 'interactions', 'between', 'computers', 'and', 'human', '(natural)', 'languages,', 'and,', 'in', 'particular,', 'concerned', 'with', 'programming', 'computers', 'to', 'fruitfully', 'process', 'large', 'natural', 'language', 'corpora.', 'Challenges', 'in', 'natural', 'language', 'processing', 'frequently', 'involve', 'natural', 'language', 'understanding,', 'natural', 'language', 'generation', '(frequently', 'from', 'formal,', 'machine-readable', 'logical', 'forms),', 'connecting', 'language', 'and', 'machine', 'perception,', 'managing', 'human-computer', 'dialog', 'systems,', 'or', 'some', 'combination', 'thereof.']\n",
            "['Natural language processing (NLP) is a field of computer science, artificial intelligence and computational linguistics concerned with the interactions between computers and human (natural) languages, and, in particular, concerned with programming computers to fruitfully process large natural language corpora.', 'Challenges in natural language processing frequently involve natural language understanding, natural language generation (frequently from formal, machine-readable logical forms), connecting language and machine perception, managing human-computer dialog systems, or some combination thereof.']\n",
            "['Natural', 'language', 'processing', '(', 'NLP', ')', 'is', 'a', 'field', 'of', 'computer', 'science', ',', 'artificial', 'intelligence', 'and', 'computational', 'linguistics', 'concerned', 'with', 'the', 'interactions', 'between', 'computers', 'and', 'human', '(', 'natural', ')', 'languages', ',', 'and', ',', 'in', 'particular', ',', 'concerned', 'with', 'programming', 'computers', 'to', 'fruitfully', 'process', 'large', 'natural', 'language', 'corpora.', 'Challenges', 'in', 'natural', 'language', 'processing', 'frequently', 'involve', 'natural', 'language', 'understanding', ',', 'natural', 'language', 'generation', '(', 'frequently', 'from', 'formal', ',', 'machine-readable', 'logical', 'forms', ')', ',', 'connecting', 'language', 'and', 'machine', 'perception', ',', 'managing', 'human-computer', 'dialog', 'systems', ',', 'or', 'some', 'combination', 'thereof', '.']\n",
            "['Natural', 'language', 'processing', '(', 'NLP', ')', 'is', 'a', 'field', 'of', 'computer', 'science', ',', 'artificial', 'intelligence', 'and', 'computational', 'linguistics', 'concerned', 'with', 'the', 'interactions', 'between', 'computers', 'and', 'human', '(', 'natural', ')', 'languages', ',', 'and', ',', 'in', 'particular', ',', 'concerned', 'with', 'programming', 'computers', 'to', 'fruitfully', 'process', 'large', 'natural', 'language', 'corpora', '.', 'Challenges', 'in', 'natural', 'language', 'processing', 'frequently', 'involve', 'natural', 'language', 'understanding', ',', 'natural', 'language', 'generation', '(', 'frequently', 'from', 'formal', ',', 'machine-readable', 'logical', 'forms', ')', ',', 'connecting', 'language', 'and', 'machine', 'perception', ',', 'managing', 'human-computer', 'dialog', 'systems', ',', 'or', 'some', 'combination', 'thereof', '.']\n",
            "['Natural', 'language', 'processing', '(', 'NLP', ')', 'is', 'a', 'field', 'of', 'computer', 'science', ',', 'artificial', 'intelligence', 'and', 'computational', 'linguistics', 'concerned', 'with', 'the', 'interactions', 'between', 'computers', 'and', 'human', '(', 'natural', ')', 'languages', ',', 'and', ',', 'in', 'particular', ',', 'concerned', 'with', 'programming', 'computers', 'to', 'fruitfully', 'process', 'large', 'natural_language', 'corpora', '.', 'Challenges', 'in', 'natural_language', 'processing', 'frequently', 'involve', 'natural_language', 'understanding', ',', 'natural_language', 'generation', '(', 'frequently', 'from', 'formal', ',', 'machine-readable', 'logical', 'forms', ')', ',', 'connecting', 'language', 'and', 'machine', 'perception', ',', 'managing', 'human-computer', 'dialog', 'systems', ',', 'or', 'some', 'combination', 'thereof', '.']\n"
          ]
        }
      ]
    },
    {
      "cell_type": "code",
      "source": [
        "from nltk.stem import PorterStemmer\n",
        "\n",
        "porter = PorterStemmer()\n",
        "print(porter.stem(\"play\"))\n",
        "print(porter.stem(\"playing\"))\n",
        "print(porter.stem(\"plays\"))\n",
        "print(porter.stem(\"played\"))"
      ],
      "metadata": {
        "colab": {
          "base_uri": "https://localhost:8080/"
        },
        "id": "mfqEnE9OKgn7",
        "outputId": "06f67675-d692-44c2-a653-aa7563bb18d6"
      },
      "execution_count": null,
      "outputs": [
        {
          "output_type": "stream",
          "name": "stdout",
          "text": [
            "play\n",
            "play\n",
            "play\n",
            "play\n"
          ]
        }
      ]
    },
    {
      "cell_type": "code",
      "source": [
        "from nltk.stem import SnowballStemmer\n",
        "\n",
        "snowball = SnowballStemmer('english')\n",
        "print(snowball.stem(\"play\"))\n",
        "print(snowball.stem(\"playing\"))\n",
        "print(snowball.stem(\"plays\"))\n",
        "print(snowball.stem(\"played\"))"
      ],
      "metadata": {
        "colab": {
          "base_uri": "https://localhost:8080/"
        },
        "id": "2VVgfV_aMT2v",
        "outputId": "736866c7-239e-4fd2-ed44-ac140a83aeb4"
      },
      "execution_count": null,
      "outputs": [
        {
          "output_type": "stream",
          "name": "stdout",
          "text": [
            "play\n",
            "play\n",
            "play\n",
            "play\n"
          ]
        }
      ]
    },
    {
      "cell_type": "code",
      "source": [
        "def read_file(file_path):\n",
        "  with open(file_path, 'r') as file:\n",
        "    text = file.read()\n",
        "  return text"
      ],
      "metadata": {
        "id": "RSeG_PjcOz8l"
      },
      "execution_count": null,
      "outputs": []
    },
    {
      "cell_type": "code",
      "source": [
        "content = read_file(\"/content/temp.txt\")\n",
        "print(content)"
      ],
      "metadata": {
        "colab": {
          "base_uri": "https://localhost:8080/"
        },
        "id": "Ht49gByiRli1",
        "outputId": "46a213e7-4c72-4132-d942-aac7a5453131"
      },
      "execution_count": null,
      "outputs": [
        {
          "output_type": "stream",
          "name": "stdout",
          "text": [
            "\n",
            "Prafull Bhoirkar\n",
            "pcbhoirkar@gmail.com | +91 8805167459| Pune, India | LinkedIn\n",
            " \n",
            "\n",
            "\n",
            "\n",
            "EDUCATION\n",
            " \n",
            "Vishwakarma Institute of Information Technology, Pune\n",
            "B.Tech in Computer Science Engineering (Artificial Intelligence) - CGPA: 8.67\tJune 2022 - June 2026\n",
            "●\tCoursework: Object Oriented Programming, Data Structures and Algorithms, Database Systems, Computer Networks, Web Technology, Artificial Intelligence, Operating Systems\n",
            "R. R. Shinde Jr. College, Hadapsar\tGrade 12                                                                                                Score: 73.5%\n",
            "Sadhana Vidyalaya, Hadapsar\tGrade 10                                                                                                Score: 96.4%\n",
            "EXPERINCE\n",
            "UST - Machine Learning Engineering Intern                                                                                                         Aug 2024 - Nov 2024\n",
            "●\tDeveloped a multimodal model for early autism detection in children using VGG16 for feature extraction and a Random Forest classifier.\n",
            "●\tAchieved an accuracy of 88.34% by integrating image-based and behavioral data for improved predictive performance.\n",
            "●\tImplemented data preprocessing, model training, and evaluation pipelines, focusing on feature optimization and model interpretability.\n",
            "TECHNICAL SKILLS\n",
            "●\tProgramming Languages - Python - (Pandas, numpy, Matplotlib, TensorFlow), Java, C, C++.\n",
            "●\tWeb Development - HTML, CSS, Javascript, Node.js, ReactJS.\n",
            "●\tDatabases - MySQL, MongoDB.\n",
            "PROJECTS\n",
            "Society Management Application \n",
            "Tech Stack: HTML, CSS, JS, React, Firebase.\n",
            "●\tDeveloped Society Management Application to streamline communication and operations with residential societies\n",
            "●\tIntegrated Firebase for real-time database functionalities and notifications.\n",
            "●\tEnsured secure login and data management to protect user information.\n",
            "\n",
            "Text Editor\n",
            "Tech Stack: Java.\n",
            "●\tDeveloped a text editor application using Java and Swing, implementing core functionalities like create, open, save, and edit text files.\n",
            "●\tIntegrated features such as text formatting, find/replace, and word count with a responsive, user-friendly interface.\n",
            "●\tUtilized Java I/O Streams and event-driven programming for efficient file handling and interactive user actions. \n",
            "\n",
            "Text Recognition\n",
            "Tech Stack: CNN, TensorFlow, Deep Learning.\n",
            "●\tBuilt a text recognition system using Python and TensorFlow, achieving 88% accuracy on the test dataset.\n",
            "●\tDeveloped and trained a convolutional neural network (CNN) for optical character recognition (OCR) with preprocessed image data.\n",
            "●\tImplemented data augmentation and model optimization techniques to enhance performance and accuracy.\n",
            "\n",
            "CERTIFICATIONS\n",
            " \n",
            "●\t[Link] IBM DevOps and Software Engineering\n",
            "●\t[Link] Google AI Essentials\n",
            "\n",
            "\n",
            "\n"
          ]
        }
      ]
    },
    {
      "cell_type": "code",
      "source": [
        "from nltk import WhitespaceTokenizer, PunktSentenceTokenizer, TreebankWordTokenizer, TweetTokenizer, MWETokenizer\n",
        "\n",
        "tokenizer = WhitespaceTokenizer()\n",
        "print(tokenizer.tokenize(content))\n",
        "\n",
        "tokenizer = PunktSentenceTokenizer()\n",
        "print(tokenizer.tokenize(content))\n",
        "\n",
        "tokenizer = TreebankWordTokenizer()\n",
        "print(tokenizer.tokenize(content))\n",
        "\n",
        "tokenizer = TweetTokenizer()\n",
        "print(tokenizer.tokenize(content))\n",
        "\n",
        "tokenizer = MWETokenizer()\n",
        "tokenizer.add_mwe(('Tech', 'Stack'))\n",
        "print(tokenizer.tokenize(word_tokenize(content)))"
      ],
      "metadata": {
        "colab": {
          "base_uri": "https://localhost:8080/"
        },
        "id": "_w0xPRc7SR7w",
        "outputId": "7e11ef9b-d3fe-43db-aafa-934cd1c52666"
      },
      "execution_count": null,
      "outputs": [
        {
          "output_type": "stream",
          "name": "stdout",
          "text": [
            "['Prafull', 'Bhoirkar', 'pcbhoirkar@gmail.com', '|', '+91', '8805167459|', 'Pune,', 'India', '|', 'LinkedIn', 'EDUCATION', 'Vishwakarma', 'Institute', 'of', 'Information', 'Technology,', 'Pune', 'B.Tech', 'in', 'Computer', 'Science', 'Engineering', '(Artificial', 'Intelligence)', '-', 'CGPA:', '8.67', 'June', '2022', '-', 'June', '2026', '●', 'Coursework:', 'Object', 'Oriented', 'Programming,', 'Data', 'Structures', 'and', 'Algorithms,', 'Database', 'Systems,', 'Computer', 'Networks,', 'Web', 'Technology,', 'Artificial', 'Intelligence,', 'Operating', 'Systems', 'R.', 'R.', 'Shinde', 'Jr.', 'College,', 'Hadapsar', 'Grade', '12', 'Score:', '73.5%', 'Sadhana', 'Vidyalaya,', 'Hadapsar', 'Grade', '10', 'Score:', '96.4%', 'EXPERINCE', 'UST', '-', 'Machine', 'Learning', 'Engineering', 'Intern', 'Aug', '2024', '-', 'Nov', '2024', '●', 'Developed', 'a', 'multimodal', 'model', 'for', 'early', 'autism', 'detection', 'in', 'children', 'using', 'VGG16', 'for', 'feature', 'extraction', 'and', 'a', 'Random', 'Forest', 'classifier.', '●', 'Achieved', 'an', 'accuracy', 'of', '88.34%', 'by', 'integrating', 'image-based', 'and', 'behavioral', 'data', 'for', 'improved', 'predictive', 'performance.', '●', 'Implemented', 'data', 'preprocessing,', 'model', 'training,', 'and', 'evaluation', 'pipelines,', 'focusing', 'on', 'feature', 'optimization', 'and', 'model', 'interpretability.', 'TECHNICAL', 'SKILLS', '●', 'Programming', 'Languages', '-', 'Python', '-', '(Pandas,', 'numpy,', 'Matplotlib,', 'TensorFlow),', 'Java,', 'C,', 'C++.', '●', 'Web', 'Development', '-', 'HTML,', 'CSS,', 'Javascript,', 'Node.js,', 'ReactJS.', '●', 'Databases', '-', 'MySQL,', 'MongoDB.', 'PROJECTS', 'Society', 'Management', 'Application', 'Tech', 'Stack:', 'HTML,', 'CSS,', 'JS,', 'React,', 'Firebase.', '●', 'Developed', 'Society', 'Management', 'Application', 'to', 'streamline', 'communication', 'and', 'operations', 'with', 'residential', 'societies', '●', 'Integrated', 'Firebase', 'for', 'real-time', 'database', 'functionalities', 'and', 'notifications.', '●', 'Ensured', 'secure', 'login', 'and', 'data', 'management', 'to', 'protect', 'user', 'information.', 'Text', 'Editor', 'Tech', 'Stack:', 'Java.', '●', 'Developed', 'a', 'text', 'editor', 'application', 'using', 'Java', 'and', 'Swing,', 'implementing', 'core', 'functionalities', 'like', 'create,', 'open,', 'save,', 'and', 'edit', 'text', 'files.', '●', 'Integrated', 'features', 'such', 'as', 'text', 'formatting,', 'find/replace,', 'and', 'word', 'count', 'with', 'a', 'responsive,', 'user-friendly', 'interface.', '●', 'Utilized', 'Java', 'I/O', 'Streams', 'and', 'event-driven', 'programming', 'for', 'efficient', 'file', 'handling', 'and', 'interactive', 'user', 'actions.', 'Text', 'Recognition', 'Tech', 'Stack:', 'CNN,', 'TensorFlow,', 'Deep', 'Learning.', '●', 'Built', 'a', 'text', 'recognition', 'system', 'using', 'Python', 'and', 'TensorFlow,', 'achieving', '88%', 'accuracy', 'on', 'the', 'test', 'dataset.', '●', 'Developed', 'and', 'trained', 'a', 'convolutional', 'neural', 'network', '(CNN)', 'for', 'optical', 'character', 'recognition', '(OCR)', 'with', 'preprocessed', 'image', 'data.', '●', 'Implemented', 'data', 'augmentation', 'and', 'model', 'optimization', 'techniques', 'to', 'enhance', 'performance', 'and', 'accuracy.', 'CERTIFICATIONS', '●', '[Link]', 'IBM', 'DevOps', 'and', 'Software', 'Engineering', '●', '[Link]', 'Google', 'AI', 'Essentials']\n",
            "['\\nPrafull Bhoirkar\\npcbhoirkar@gmail.com | +91 8805167459| Pune, India | LinkedIn\\n \\n\\n\\n\\nEDUCATION\\n \\nVishwakarma Institute of Information Technology, Pune\\nB.Tech in Computer Science Engineering (Artificial Intelligence) - CGPA: 8.67\\tJune 2022 - June 2026\\n●\\tCoursework: Object Oriented Programming, Data Structures and Algorithms, Database Systems, Computer Networks, Web Technology, Artificial Intelligence, Operating Systems\\nR. R. Shinde Jr.', 'College, Hadapsar\\tGrade 12                                                                                                Score: 73.5%\\nSadhana Vidyalaya, Hadapsar\\tGrade 10                                                                                                Score: 96.4%\\nEXPERINCE\\nUST - Machine Learning Engineering Intern                                                                                                         Aug 2024 - Nov 2024\\n●\\tDeveloped a multimodal model for early autism detection in children using VGG16 for feature extraction and a Random Forest classifier.', '●\\tAchieved an accuracy of 88.34% by integrating image-based and behavioral data for improved predictive performance.', '●\\tImplemented data preprocessing, model training, and evaluation pipelines, focusing on feature optimization and model interpretability.', 'TECHNICAL SKILLS\\n●\\tProgramming Languages - Python - (Pandas, numpy, Matplotlib, TensorFlow), Java, C, C++.', '●\\tWeb Development - HTML, CSS, Javascript, Node.js, ReactJS.', '●\\tDatabases - MySQL, MongoDB.', 'PROJECTS\\nSociety Management Application \\nTech Stack: HTML, CSS, JS, React, Firebase.', '●\\tDeveloped Society Management Application to streamline communication and operations with residential societies\\n●\\tIntegrated Firebase for real-time database functionalities and notifications.', '●\\tEnsured secure login and data management to protect user information.', 'Text Editor\\nTech Stack: Java.', '●\\tDeveloped a text editor application using Java and Swing, implementing core functionalities like create, open, save, and edit text files.', '●\\tIntegrated features such as text formatting, find/replace, and word count with a responsive, user-friendly interface.', '●\\tUtilized Java I/O Streams and event-driven programming for efficient file handling and interactive user actions.', 'Text Recognition\\nTech Stack: CNN, TensorFlow, Deep Learning.', '●\\tBuilt a text recognition system using Python and TensorFlow, achieving 88% accuracy on the test dataset.', '●\\tDeveloped and trained a convolutional neural network (CNN) for optical character recognition (OCR) with preprocessed image data.', '●\\tImplemented data augmentation and model optimization techniques to enhance performance and accuracy.', 'CERTIFICATIONS\\n \\n●\\t[Link] IBM DevOps and Software Engineering\\n●\\t[Link] Google AI Essentials']\n",
            "['Prafull', 'Bhoirkar', 'pcbhoirkar', '@', 'gmail.com', '|', '+91', '8805167459|', 'Pune', ',', 'India', '|', 'LinkedIn', 'EDUCATION', 'Vishwakarma', 'Institute', 'of', 'Information', 'Technology', ',', 'Pune', 'B.Tech', 'in', 'Computer', 'Science', 'Engineering', '(', 'Artificial', 'Intelligence', ')', '-', 'CGPA', ':', '8.67', 'June', '2022', '-', 'June', '2026', '●', 'Coursework', ':', 'Object', 'Oriented', 'Programming', ',', 'Data', 'Structures', 'and', 'Algorithms', ',', 'Database', 'Systems', ',', 'Computer', 'Networks', ',', 'Web', 'Technology', ',', 'Artificial', 'Intelligence', ',', 'Operating', 'Systems', 'R.', 'R.', 'Shinde', 'Jr.', 'College', ',', 'Hadapsar', 'Grade', '12', 'Score', ':', '73.5', '%', 'Sadhana', 'Vidyalaya', ',', 'Hadapsar', 'Grade', '10', 'Score', ':', '96.4', '%', 'EXPERINCE', 'UST', '-', 'Machine', 'Learning', 'Engineering', 'Intern', 'Aug', '2024', '-', 'Nov', '2024', '●', 'Developed', 'a', 'multimodal', 'model', 'for', 'early', 'autism', 'detection', 'in', 'children', 'using', 'VGG16', 'for', 'feature', 'extraction', 'and', 'a', 'Random', 'Forest', 'classifier.', '●', 'Achieved', 'an', 'accuracy', 'of', '88.34', '%', 'by', 'integrating', 'image-based', 'and', 'behavioral', 'data', 'for', 'improved', 'predictive', 'performance.', '●', 'Implemented', 'data', 'preprocessing', ',', 'model', 'training', ',', 'and', 'evaluation', 'pipelines', ',', 'focusing', 'on', 'feature', 'optimization', 'and', 'model', 'interpretability.', 'TECHNICAL', 'SKILLS', '●', 'Programming', 'Languages', '-', 'Python', '-', '(', 'Pandas', ',', 'numpy', ',', 'Matplotlib', ',', 'TensorFlow', ')', ',', 'Java', ',', 'C', ',', 'C++.', '●', 'Web', 'Development', '-', 'HTML', ',', 'CSS', ',', 'Javascript', ',', 'Node.js', ',', 'ReactJS.', '●', 'Databases', '-', 'MySQL', ',', 'MongoDB.', 'PROJECTS', 'Society', 'Management', 'Application', 'Tech', 'Stack', ':', 'HTML', ',', 'CSS', ',', 'JS', ',', 'React', ',', 'Firebase.', '●', 'Developed', 'Society', 'Management', 'Application', 'to', 'streamline', 'communication', 'and', 'operations', 'with', 'residential', 'societies', '●', 'Integrated', 'Firebase', 'for', 'real-time', 'database', 'functionalities', 'and', 'notifications.', '●', 'Ensured', 'secure', 'login', 'and', 'data', 'management', 'to', 'protect', 'user', 'information.', 'Text', 'Editor', 'Tech', 'Stack', ':', 'Java.', '●', 'Developed', 'a', 'text', 'editor', 'application', 'using', 'Java', 'and', 'Swing', ',', 'implementing', 'core', 'functionalities', 'like', 'create', ',', 'open', ',', 'save', ',', 'and', 'edit', 'text', 'files.', '●', 'Integrated', 'features', 'such', 'as', 'text', 'formatting', ',', 'find/replace', ',', 'and', 'word', 'count', 'with', 'a', 'responsive', ',', 'user-friendly', 'interface.', '●', 'Utilized', 'Java', 'I/O', 'Streams', 'and', 'event-driven', 'programming', 'for', 'efficient', 'file', 'handling', 'and', 'interactive', 'user', 'actions.', 'Text', 'Recognition', 'Tech', 'Stack', ':', 'CNN', ',', 'TensorFlow', ',', 'Deep', 'Learning.', '●', 'Built', 'a', 'text', 'recognition', 'system', 'using', 'Python', 'and', 'TensorFlow', ',', 'achieving', '88', '%', 'accuracy', 'on', 'the', 'test', 'dataset.', '●', 'Developed', 'and', 'trained', 'a', 'convolutional', 'neural', 'network', '(', 'CNN', ')', 'for', 'optical', 'character', 'recognition', '(', 'OCR', ')', 'with', 'preprocessed', 'image', 'data.', '●', 'Implemented', 'data', 'augmentation', 'and', 'model', 'optimization', 'techniques', 'to', 'enhance', 'performance', 'and', 'accuracy.', 'CERTIFICATIONS', '●', '[', 'Link', ']', 'IBM', 'DevOps', 'and', 'Software', 'Engineering', '●', '[', 'Link', ']', 'Google', 'AI', 'Essentials']\n",
            "['Prafull', 'Bhoirkar', 'pcbhoirkar@gmail.com', '|', '+', '91', '8805167459', '|', 'Pune', ',', 'India', '|', 'LinkedIn', 'EDUCATION', 'Vishwakarma', 'Institute', 'of', 'Information', 'Technology', ',', 'Pune', 'B.Tech', 'in', 'Computer', 'Science', 'Engineering', '(', 'Artificial', 'Intelligence', ')', '-', 'CGPA', ':', '8.67', 'June', '2022', '-', 'June', '2026', '●', 'Coursework', ':', 'Object', 'Oriented', 'Programming', ',', 'Data', 'Structures', 'and', 'Algorithms', ',', 'Database', 'Systems', ',', 'Computer', 'Networks', ',', 'Web', 'Technology', ',', 'Artificial', 'Intelligence', ',', 'Operating', 'Systems', 'R', '.', 'R', '.', 'Shinde', 'Jr', '.', 'College', ',', 'Hadapsar', 'Grade', '12', 'Score', ':', '73.5', '%', 'Sadhana', 'Vidyalaya', ',', 'Hadapsar', 'Grade', '10', 'Score', ':', '96.4', '%', 'EXPERINCE', 'UST', '-', 'Machine', 'Learning', 'Engineering', 'Intern', 'Aug', '2024', '-', 'Nov', '2024', '●', 'Developed', 'a', 'multimodal', 'model', 'for', 'early', 'autism', 'detection', 'in', 'children', 'using', 'VGG', '16', 'for', 'feature', 'extraction', 'and', 'a', 'Random', 'Forest', 'classifier', '.', '●', 'Achieved', 'an', 'accuracy', 'of', '88.34', '%', 'by', 'integrating', 'image-based', 'and', 'behavioral', 'data', 'for', 'improved', 'predictive', 'performance', '.', '●', 'Implemented', 'data', 'preprocessing', ',', 'model', 'training', ',', 'and', 'evaluation', 'pipelines', ',', 'focusing', 'on', 'feature', 'optimization', 'and', 'model', 'interpretability', '.', 'TECHNICAL', 'SKILLS', '●', 'Programming', 'Languages', '-', 'Python', '-', '(', 'Pandas', ',', 'numpy', ',', 'Matplotlib', ',', 'TensorFlow', ')', ',', 'Java', ',', 'C', ',', 'C', '+', '+', '.', '●', 'Web', 'Development', '-', 'HTML', ',', 'CSS', ',', 'Javascript', ',', 'Node.js', ',', 'ReactJS', '.', '●', 'Databases', '-', 'MySQL', ',', 'MongoDB', '.', 'PROJECTS', 'Society', 'Management', 'Application', 'Tech', 'Stack', ':', 'HTML', ',', 'CSS', ',', 'JS', ',', 'React', ',', 'Firebase', '.', '●', 'Developed', 'Society', 'Management', 'Application', 'to', 'streamline', 'communication', 'and', 'operations', 'with', 'residential', 'societies', '●', 'Integrated', 'Firebase', 'for', 'real-time', 'database', 'functionalities', 'and', 'notifications', '.', '●', 'Ensured', 'secure', 'login', 'and', 'data', 'management', 'to', 'protect', 'user', 'information', '.', 'Text', 'Editor', 'Tech', 'Stack', ':', 'Java', '.', '●', 'Developed', 'a', 'text', 'editor', 'application', 'using', 'Java', 'and', 'Swing', ',', 'implementing', 'core', 'functionalities', 'like', 'create', ',', 'open', ',', 'save', ',', 'and', 'edit', 'text', 'files', '.', '●', 'Integrated', 'features', 'such', 'as', 'text', 'formatting', ',', 'find', '/', 'replace', ',', 'and', 'word', 'count', 'with', 'a', 'responsive', ',', 'user-friendly', 'interface', '.', '●', 'Utilized', 'Java', 'I', '/', 'O', 'Streams', 'and', 'event-driven', 'programming', 'for', 'efficient', 'file', 'handling', 'and', 'interactive', 'user', 'actions', '.', 'Text', 'Recognition', 'Tech', 'Stack', ':', 'CNN', ',', 'TensorFlow', ',', 'Deep', 'Learning', '.', '●', 'Built', 'a', 'text', 'recognition', 'system', 'using', 'Python', 'and', 'TensorFlow', ',', 'achieving', '88', '%', 'accuracy', 'on', 'the', 'test', 'dataset', '.', '●', 'Developed', 'and', 'trained', 'a', 'convolutional', 'neural', 'network', '(', 'CNN', ')', 'for', 'optical', 'character', 'recognition', '(', 'OCR', ')', 'with', 'preprocessed', 'image', 'data', '.', '●', 'Implemented', 'data', 'augmentation', 'and', 'model', 'optimization', 'techniques', 'to', 'enhance', 'performance', 'and', 'accuracy', '.', 'CERTIFICATIONS', '●', '[', 'Link', ']', 'IBM', 'DevOps', 'and', 'Software', 'Engineering', '●', '[', 'Link', ']', 'Google', 'AI', 'Essentials']\n",
            "['Prafull', 'Bhoirkar', 'pcbhoirkar', '@', 'gmail.com', '|', '+91', '8805167459|', 'Pune', ',', 'India', '|', 'LinkedIn', 'EDUCATION', 'Vishwakarma', 'Institute', 'of', 'Information', 'Technology', ',', 'Pune', 'B.Tech', 'in', 'Computer', 'Science', 'Engineering', '(', 'Artificial', 'Intelligence', ')', '-', 'CGPA', ':', '8.67', 'June', '2022', '-', 'June', '2026', '●', 'Coursework', ':', 'Object', 'Oriented', 'Programming', ',', 'Data', 'Structures', 'and', 'Algorithms', ',', 'Database', 'Systems', ',', 'Computer', 'Networks', ',', 'Web', 'Technology', ',', 'Artificial', 'Intelligence', ',', 'Operating', 'Systems', 'R.', 'R.', 'Shinde', 'Jr.', 'College', ',', 'Hadapsar', 'Grade', '12', 'Score', ':', '73.5', '%', 'Sadhana', 'Vidyalaya', ',', 'Hadapsar', 'Grade', '10', 'Score', ':', '96.4', '%', 'EXPERINCE', 'UST', '-', 'Machine', 'Learning', 'Engineering', 'Intern', 'Aug', '2024', '-', 'Nov', '2024', '●', 'Developed', 'a', 'multimodal', 'model', 'for', 'early', 'autism', 'detection', 'in', 'children', 'using', 'VGG16', 'for', 'feature', 'extraction', 'and', 'a', 'Random', 'Forest', 'classifier', '.', '●', 'Achieved', 'an', 'accuracy', 'of', '88.34', '%', 'by', 'integrating', 'image-based', 'and', 'behavioral', 'data', 'for', 'improved', 'predictive', 'performance', '.', '●', 'Implemented', 'data', 'preprocessing', ',', 'model', 'training', ',', 'and', 'evaluation', 'pipelines', ',', 'focusing', 'on', 'feature', 'optimization', 'and', 'model', 'interpretability', '.', 'TECHNICAL', 'SKILLS', '●', 'Programming', 'Languages', '-', 'Python', '-', '(', 'Pandas', ',', 'numpy', ',', 'Matplotlib', ',', 'TensorFlow', ')', ',', 'Java', ',', 'C', ',', 'C++', '.', '●', 'Web', 'Development', '-', 'HTML', ',', 'CSS', ',', 'Javascript', ',', 'Node.js', ',', 'ReactJS', '.', '●', 'Databases', '-', 'MySQL', ',', 'MongoDB', '.', 'PROJECTS', 'Society', 'Management', 'Application', 'Tech_Stack', ':', 'HTML', ',', 'CSS', ',', 'JS', ',', 'React', ',', 'Firebase', '.', '●', 'Developed', 'Society', 'Management', 'Application', 'to', 'streamline', 'communication', 'and', 'operations', 'with', 'residential', 'societies', '●', 'Integrated', 'Firebase', 'for', 'real-time', 'database', 'functionalities', 'and', 'notifications', '.', '●', 'Ensured', 'secure', 'login', 'and', 'data', 'management', 'to', 'protect', 'user', 'information', '.', 'Text', 'Editor', 'Tech_Stack', ':', 'Java', '.', '●', 'Developed', 'a', 'text', 'editor', 'application', 'using', 'Java', 'and', 'Swing', ',', 'implementing', 'core', 'functionalities', 'like', 'create', ',', 'open', ',', 'save', ',', 'and', 'edit', 'text', 'files', '.', '●', 'Integrated', 'features', 'such', 'as', 'text', 'formatting', ',', 'find/replace', ',', 'and', 'word', 'count', 'with', 'a', 'responsive', ',', 'user-friendly', 'interface', '.', '●', 'Utilized', 'Java', 'I/O', 'Streams', 'and', 'event-driven', 'programming', 'for', 'efficient', 'file', 'handling', 'and', 'interactive', 'user', 'actions', '.', 'Text', 'Recognition', 'Tech_Stack', ':', 'CNN', ',', 'TensorFlow', ',', 'Deep', 'Learning', '.', '●', 'Built', 'a', 'text', 'recognition', 'system', 'using', 'Python', 'and', 'TensorFlow', ',', 'achieving', '88', '%', 'accuracy', 'on', 'the', 'test', 'dataset', '.', '●', 'Developed', 'and', 'trained', 'a', 'convolutional', 'neural', 'network', '(', 'CNN', ')', 'for', 'optical', 'character', 'recognition', '(', 'OCR', ')', 'with', 'preprocessed', 'image', 'data', '.', '●', 'Implemented', 'data', 'augmentation', 'and', 'model', 'optimization', 'techniques', 'to', 'enhance', 'performance', 'and', 'accuracy', '.', 'CERTIFICATIONS', '●', '[', 'Link', ']', 'IBM', 'DevOps', 'and', 'Software', 'Engineering', '●', '[', 'Link', ']', 'Google', 'AI', 'Essentials']\n"
          ]
        }
      ]
    },
    {
      "cell_type": "code",
      "source": [
        "!pip install PDFReader PyPDF2"
      ],
      "metadata": {
        "colab": {
          "base_uri": "https://localhost:8080/"
        },
        "id": "5GbxW5vNS0j7",
        "outputId": "99b57406-2d4e-4e77-ae2c-31479de4e1a0"
      },
      "execution_count": null,
      "outputs": [
        {
          "output_type": "stream",
          "name": "stdout",
          "text": [
            "Collecting PDFReader\n",
            "  Downloading pdfreader-0.1.15-py3-none-any.whl.metadata (4.3 kB)\n",
            "Collecting PyPDF2\n",
            "  Downloading pypdf2-3.0.1-py3-none-any.whl.metadata (6.8 kB)\n",
            "Collecting bitarray>=1.1.0 (from PDFReader)\n",
            "  Downloading bitarray-3.0.0-cp311-cp311-manylinux_2_17_x86_64.manylinux2014_x86_64.whl.metadata (32 kB)\n",
            "Requirement already satisfied: pillow>=7.1.0 in /usr/local/lib/python3.11/dist-packages (from PDFReader) (11.1.0)\n",
            "Collecting pycryptodome>=3.9.9 (from PDFReader)\n",
            "  Downloading pycryptodome-3.21.0-cp36-abi3-manylinux_2_17_x86_64.manylinux2014_x86_64.whl.metadata (3.4 kB)\n",
            "Requirement already satisfied: python-dateutil>=2.8.1 in /usr/local/lib/python3.11/dist-packages (from PDFReader) (2.8.2)\n",
            "Requirement already satisfied: six>=1.5 in /usr/local/lib/python3.11/dist-packages (from python-dateutil>=2.8.1->PDFReader) (1.17.0)\n",
            "Downloading pdfreader-0.1.15-py3-none-any.whl (135 kB)\n",
            "\u001b[2K   \u001b[90m━━━━━━━━━━━━━━━━━━━━━━━━━━━━━━━━━━━━━━━━\u001b[0m \u001b[32m135.6/135.6 kB\u001b[0m \u001b[31m11.4 MB/s\u001b[0m eta \u001b[36m0:00:00\u001b[0m\n",
            "\u001b[?25hDownloading pypdf2-3.0.1-py3-none-any.whl (232 kB)\n",
            "\u001b[2K   \u001b[90m━━━━━━━━━━━━━━━━━━━━━━━━━━━━━━━━━━━━━━━━\u001b[0m \u001b[32m232.6/232.6 kB\u001b[0m \u001b[31m17.8 MB/s\u001b[0m eta \u001b[36m0:00:00\u001b[0m\n",
            "\u001b[?25hDownloading bitarray-3.0.0-cp311-cp311-manylinux_2_17_x86_64.manylinux2014_x86_64.whl (286 kB)\n",
            "\u001b[2K   \u001b[90m━━━━━━━━━━━━━━━━━━━━━━━━━━━━━━━━━━━━━━━━\u001b[0m \u001b[32m286.1/286.1 kB\u001b[0m \u001b[31m20.7 MB/s\u001b[0m eta \u001b[36m0:00:00\u001b[0m\n",
            "\u001b[?25hDownloading pycryptodome-3.21.0-cp36-abi3-manylinux_2_17_x86_64.manylinux2014_x86_64.whl (2.3 MB)\n",
            "\u001b[2K   \u001b[90m━━━━━━━━━━━━━━━━━━━━━━━━━━━━━━━━━━━━━━━━\u001b[0m \u001b[32m2.3/2.3 MB\u001b[0m \u001b[31m60.3 MB/s\u001b[0m eta \u001b[36m0:00:00\u001b[0m\n",
            "\u001b[?25hInstalling collected packages: bitarray, PyPDF2, pycryptodome, PDFReader\n",
            "Successfully installed PDFReader-0.1.15 PyPDF2-3.0.1 bitarray-3.0.0 pycryptodome-3.21.0\n"
          ]
        }
      ]
    },
    {
      "cell_type": "code",
      "source": [
        "from PyPDF2 import PdfReader\n",
        "\n",
        "def read_pdf(file_path):\n",
        "  reader = PdfReader(file_path)\n",
        "  text = \"\"\n",
        "  for page in reader.pages:\n",
        "    text += page.extract_text()\n",
        "  return text"
      ],
      "metadata": {
        "id": "NNr0O4lCTFLu"
      },
      "execution_count": null,
      "outputs": []
    },
    {
      "cell_type": "code",
      "source": [
        "pdf_content = read_pdf(\"/content/Prafull_Bhoirkar.pdf\")\n",
        "print(pdf_content)"
      ],
      "metadata": {
        "colab": {
          "base_uri": "https://localhost:8080/"
        },
        "id": "Vh-OJqLUTVJj",
        "outputId": "4d680735-8ab1-42b2-93b2-c533d69dc851"
      },
      "execution_count": null,
      "outputs": [
        {
          "output_type": "stream",
          "name": "stdout",
          "text": [
            " \n",
            "Prafull Bhoirkar  \n",
            "pcbhoirkar@gmail.com  | +91 8805167459 | Pune , India | LinkedIn  \n",
            "  \n",
            " \n",
            " \n",
            "EDUCATION  \n",
            " \n",
            "Vishwakarma Institute of Information  Technology, Pune  \n",
            "B.Tech in Computer  Science  Engineering  (Artificial Intelligence)  - CGPA: 8. 67 June 2022 - June 2026  \n",
            "● Coursework: Object Oriented Programming, Data Structures an d Algorithms, Database Systems , Computer Networks, \n",
            "Web Technology, Artificial Intelligence, Operating Systems  \n",
            "R. R. Shinde Jr. College , Hadapsar  Grade 12                                                                                                Score : 73.5% \n",
            "Sadhana Vidyalaya , Hadapsar  Grade 10                                                                                                Score : 96.4% \n",
            "EXPERINCE  \n",
            "UST  - Machine Learning Engineer ing Intern                                                                                                          Aug 2024 - Nov 2024  \n",
            "● Developed a multimodal model for early autism detection in children using VGG16 for feature extraction and a Random \n",
            "Forest classifier.  \n",
            "● Achieved an accuracy of 88.34% by integrating image -based and behavioral data for improved predictive performance.  \n",
            "● Implemented data preprocessing, model training, and evaluation pipelines, focusing on feature optimization and model \n",
            "interpretability.  \n",
            "TECHNICAL SKILLS  \n",
            "● Programming Languages - Python - (Pandas, numpy, Matplotlib , TensorFlow) , Java, C, C++.  \n",
            "● Web Development - HTML, CSS,  Javascript, Node.js, ReactJS.  \n",
            "● Databases - MySQL, MongoDB.  \n",
            "PROJECTS  \n",
            "Society Management Application   \n",
            "Tech Stack: HTML, CSS, JS , React, Firebase . \n",
            "● Developed Society Management Application to streamline communication  and operations with residential societies  \n",
            "● Integrated Firebase for real -time database functionalities and notifications . \n",
            "● Ensured secure login and data management to protect user information.  \n",
            " \n",
            "Text Editor  \n",
            "Tech Stack: Java.  \n",
            "● Developed a text editor application using Java and Swing, implementing core functionalities like create, open, save, and edit  \n",
            "text files.  \n",
            "● Integrated features such as text formatting, find/rep lace, and word count with a responsive, user -friendly interface.  \n",
            "● Utilized Java I/O Streams and event -driven programming for efficient file handling and interactive user actions.   \n",
            " \n",
            "Text Recognition  \n",
            "Tech Stack : CNN , TensorFlow , Deep Learning . \n",
            "● Built a text recognition system using Python and TensorFlow, achieving 88% accuracy on the test dataset.  \n",
            "● Developed and trained a convolutional neural network (CNN) for optical character recognition (OCR) with preprocessed \n",
            "image data.  \n",
            "● Implemented data augme ntation and model optimization techniques to enhance performance and accuracy.  \n",
            " \n",
            "CERTIFICATIONS  \n",
            " \n",
            "● [Link]  IBM DevOps and Software Engineering  \n",
            "● [Link]  Google AI Essentials  \n",
            " \n",
            " \n"
          ]
        }
      ]
    },
    {
      "cell_type": "code",
      "source": [
        "from nltk import WhitespaceTokenizer, PunktSentenceTokenizer, TreebankWordTokenizer, TweetTokenizer, MWETokenizer\n",
        "\n",
        "tokenizer = WhitespaceTokenizer()\n",
        "print(tokenizer.tokenize(content))\n",
        "\n",
        "tokenizer = PunktSentenceTokenizer()\n",
        "print(tokenizer.tokenize(content))\n",
        "\n",
        "tokenizer = TreebankWordTokenizer()\n",
        "print(tokenizer.tokenize(content))\n",
        "\n",
        "tokenizer = TweetTokenizer()\n",
        "print(tokenizer.tokenize(content))\n",
        "\n",
        "tokenizer = MWETokenizer()\n",
        "tokenizer.add_mwe(('Tech', 'Stack'))\n",
        "print(tokenizer.tokenize(word_tokenize(content)))"
      ],
      "metadata": {
        "colab": {
          "base_uri": "https://localhost:8080/"
        },
        "id": "SGp76-fLTRdW",
        "outputId": "a30a9455-2457-4710-d803-1624f6e5c3cc"
      },
      "execution_count": null,
      "outputs": [
        {
          "output_type": "stream",
          "name": "stdout",
          "text": [
            "['Prafull', 'Bhoirkar', 'pcbhoirkar@gmail.com', '|', '+91', '8805167459|', 'Pune,', 'India', '|', 'LinkedIn', 'EDUCATION', 'Vishwakarma', 'Institute', 'of', 'Information', 'Technology,', 'Pune', 'B.Tech', 'in', 'Computer', 'Science', 'Engineering', '(Artificial', 'Intelligence)', '-', 'CGPA:', '8.67', 'June', '2022', '-', 'June', '2026', '●', 'Coursework:', 'Object', 'Oriented', 'Programming,', 'Data', 'Structures', 'and', 'Algorithms,', 'Database', 'Systems,', 'Computer', 'Networks,', 'Web', 'Technology,', 'Artificial', 'Intelligence,', 'Operating', 'Systems', 'R.', 'R.', 'Shinde', 'Jr.', 'College,', 'Hadapsar', 'Grade', '12', 'Score:', '73.5%', 'Sadhana', 'Vidyalaya,', 'Hadapsar', 'Grade', '10', 'Score:', '96.4%', 'EXPERINCE', 'UST', '-', 'Machine', 'Learning', 'Engineering', 'Intern', 'Aug', '2024', '-', 'Nov', '2024', '●', 'Developed', 'a', 'multimodal', 'model', 'for', 'early', 'autism', 'detection', 'in', 'children', 'using', 'VGG16', 'for', 'feature', 'extraction', 'and', 'a', 'Random', 'Forest', 'classifier.', '●', 'Achieved', 'an', 'accuracy', 'of', '88.34%', 'by', 'integrating', 'image-based', 'and', 'behavioral', 'data', 'for', 'improved', 'predictive', 'performance.', '●', 'Implemented', 'data', 'preprocessing,', 'model', 'training,', 'and', 'evaluation', 'pipelines,', 'focusing', 'on', 'feature', 'optimization', 'and', 'model', 'interpretability.', 'TECHNICAL', 'SKILLS', '●', 'Programming', 'Languages', '-', 'Python', '-', '(Pandas,', 'numpy,', 'Matplotlib,', 'TensorFlow),', 'Java,', 'C,', 'C++.', '●', 'Web', 'Development', '-', 'HTML,', 'CSS,', 'Javascript,', 'Node.js,', 'ReactJS.', '●', 'Databases', '-', 'MySQL,', 'MongoDB.', 'PROJECTS', 'Society', 'Management', 'Application', 'Tech', 'Stack:', 'HTML,', 'CSS,', 'JS,', 'React,', 'Firebase.', '●', 'Developed', 'Society', 'Management', 'Application', 'to', 'streamline', 'communication', 'and', 'operations', 'with', 'residential', 'societies', '●', 'Integrated', 'Firebase', 'for', 'real-time', 'database', 'functionalities', 'and', 'notifications.', '●', 'Ensured', 'secure', 'login', 'and', 'data', 'management', 'to', 'protect', 'user', 'information.', 'Text', 'Editor', 'Tech', 'Stack:', 'Java.', '●', 'Developed', 'a', 'text', 'editor', 'application', 'using', 'Java', 'and', 'Swing,', 'implementing', 'core', 'functionalities', 'like', 'create,', 'open,', 'save,', 'and', 'edit', 'text', 'files.', '●', 'Integrated', 'features', 'such', 'as', 'text', 'formatting,', 'find/replace,', 'and', 'word', 'count', 'with', 'a', 'responsive,', 'user-friendly', 'interface.', '●', 'Utilized', 'Java', 'I/O', 'Streams', 'and', 'event-driven', 'programming', 'for', 'efficient', 'file', 'handling', 'and', 'interactive', 'user', 'actions.', 'Text', 'Recognition', 'Tech', 'Stack:', 'CNN,', 'TensorFlow,', 'Deep', 'Learning.', '●', 'Built', 'a', 'text', 'recognition', 'system', 'using', 'Python', 'and', 'TensorFlow,', 'achieving', '88%', 'accuracy', 'on', 'the', 'test', 'dataset.', '●', 'Developed', 'and', 'trained', 'a', 'convolutional', 'neural', 'network', '(CNN)', 'for', 'optical', 'character', 'recognition', '(OCR)', 'with', 'preprocessed', 'image', 'data.', '●', 'Implemented', 'data', 'augmentation', 'and', 'model', 'optimization', 'techniques', 'to', 'enhance', 'performance', 'and', 'accuracy.', 'CERTIFICATIONS', '●', '[Link]', 'IBM', 'DevOps', 'and', 'Software', 'Engineering', '●', '[Link]', 'Google', 'AI', 'Essentials']\n",
            "['\\nPrafull Bhoirkar\\npcbhoirkar@gmail.com | +91 8805167459| Pune, India | LinkedIn\\n \\n\\n\\n\\nEDUCATION\\n \\nVishwakarma Institute of Information Technology, Pune\\nB.Tech in Computer Science Engineering (Artificial Intelligence) - CGPA: 8.67\\tJune 2022 - June 2026\\n●\\tCoursework: Object Oriented Programming, Data Structures and Algorithms, Database Systems, Computer Networks, Web Technology, Artificial Intelligence, Operating Systems\\nR. R. Shinde Jr.', 'College, Hadapsar\\tGrade 12                                                                                                Score: 73.5%\\nSadhana Vidyalaya, Hadapsar\\tGrade 10                                                                                                Score: 96.4%\\nEXPERINCE\\nUST - Machine Learning Engineering Intern                                                                                                         Aug 2024 - Nov 2024\\n●\\tDeveloped a multimodal model for early autism detection in children using VGG16 for feature extraction and a Random Forest classifier.', '●\\tAchieved an accuracy of 88.34% by integrating image-based and behavioral data for improved predictive performance.', '●\\tImplemented data preprocessing, model training, and evaluation pipelines, focusing on feature optimization and model interpretability.', 'TECHNICAL SKILLS\\n●\\tProgramming Languages - Python - (Pandas, numpy, Matplotlib, TensorFlow), Java, C, C++.', '●\\tWeb Development - HTML, CSS, Javascript, Node.js, ReactJS.', '●\\tDatabases - MySQL, MongoDB.', 'PROJECTS\\nSociety Management Application \\nTech Stack: HTML, CSS, JS, React, Firebase.', '●\\tDeveloped Society Management Application to streamline communication and operations with residential societies\\n●\\tIntegrated Firebase for real-time database functionalities and notifications.', '●\\tEnsured secure login and data management to protect user information.', 'Text Editor\\nTech Stack: Java.', '●\\tDeveloped a text editor application using Java and Swing, implementing core functionalities like create, open, save, and edit text files.', '●\\tIntegrated features such as text formatting, find/replace, and word count with a responsive, user-friendly interface.', '●\\tUtilized Java I/O Streams and event-driven programming for efficient file handling and interactive user actions.', 'Text Recognition\\nTech Stack: CNN, TensorFlow, Deep Learning.', '●\\tBuilt a text recognition system using Python and TensorFlow, achieving 88% accuracy on the test dataset.', '●\\tDeveloped and trained a convolutional neural network (CNN) for optical character recognition (OCR) with preprocessed image data.', '●\\tImplemented data augmentation and model optimization techniques to enhance performance and accuracy.', 'CERTIFICATIONS\\n \\n●\\t[Link] IBM DevOps and Software Engineering\\n●\\t[Link] Google AI Essentials']\n",
            "['Prafull', 'Bhoirkar', 'pcbhoirkar', '@', 'gmail.com', '|', '+91', '8805167459|', 'Pune', ',', 'India', '|', 'LinkedIn', 'EDUCATION', 'Vishwakarma', 'Institute', 'of', 'Information', 'Technology', ',', 'Pune', 'B.Tech', 'in', 'Computer', 'Science', 'Engineering', '(', 'Artificial', 'Intelligence', ')', '-', 'CGPA', ':', '8.67', 'June', '2022', '-', 'June', '2026', '●', 'Coursework', ':', 'Object', 'Oriented', 'Programming', ',', 'Data', 'Structures', 'and', 'Algorithms', ',', 'Database', 'Systems', ',', 'Computer', 'Networks', ',', 'Web', 'Technology', ',', 'Artificial', 'Intelligence', ',', 'Operating', 'Systems', 'R.', 'R.', 'Shinde', 'Jr.', 'College', ',', 'Hadapsar', 'Grade', '12', 'Score', ':', '73.5', '%', 'Sadhana', 'Vidyalaya', ',', 'Hadapsar', 'Grade', '10', 'Score', ':', '96.4', '%', 'EXPERINCE', 'UST', '-', 'Machine', 'Learning', 'Engineering', 'Intern', 'Aug', '2024', '-', 'Nov', '2024', '●', 'Developed', 'a', 'multimodal', 'model', 'for', 'early', 'autism', 'detection', 'in', 'children', 'using', 'VGG16', 'for', 'feature', 'extraction', 'and', 'a', 'Random', 'Forest', 'classifier.', '●', 'Achieved', 'an', 'accuracy', 'of', '88.34', '%', 'by', 'integrating', 'image-based', 'and', 'behavioral', 'data', 'for', 'improved', 'predictive', 'performance.', '●', 'Implemented', 'data', 'preprocessing', ',', 'model', 'training', ',', 'and', 'evaluation', 'pipelines', ',', 'focusing', 'on', 'feature', 'optimization', 'and', 'model', 'interpretability.', 'TECHNICAL', 'SKILLS', '●', 'Programming', 'Languages', '-', 'Python', '-', '(', 'Pandas', ',', 'numpy', ',', 'Matplotlib', ',', 'TensorFlow', ')', ',', 'Java', ',', 'C', ',', 'C++.', '●', 'Web', 'Development', '-', 'HTML', ',', 'CSS', ',', 'Javascript', ',', 'Node.js', ',', 'ReactJS.', '●', 'Databases', '-', 'MySQL', ',', 'MongoDB.', 'PROJECTS', 'Society', 'Management', 'Application', 'Tech', 'Stack', ':', 'HTML', ',', 'CSS', ',', 'JS', ',', 'React', ',', 'Firebase.', '●', 'Developed', 'Society', 'Management', 'Application', 'to', 'streamline', 'communication', 'and', 'operations', 'with', 'residential', 'societies', '●', 'Integrated', 'Firebase', 'for', 'real-time', 'database', 'functionalities', 'and', 'notifications.', '●', 'Ensured', 'secure', 'login', 'and', 'data', 'management', 'to', 'protect', 'user', 'information.', 'Text', 'Editor', 'Tech', 'Stack', ':', 'Java.', '●', 'Developed', 'a', 'text', 'editor', 'application', 'using', 'Java', 'and', 'Swing', ',', 'implementing', 'core', 'functionalities', 'like', 'create', ',', 'open', ',', 'save', ',', 'and', 'edit', 'text', 'files.', '●', 'Integrated', 'features', 'such', 'as', 'text', 'formatting', ',', 'find/replace', ',', 'and', 'word', 'count', 'with', 'a', 'responsive', ',', 'user-friendly', 'interface.', '●', 'Utilized', 'Java', 'I/O', 'Streams', 'and', 'event-driven', 'programming', 'for', 'efficient', 'file', 'handling', 'and', 'interactive', 'user', 'actions.', 'Text', 'Recognition', 'Tech', 'Stack', ':', 'CNN', ',', 'TensorFlow', ',', 'Deep', 'Learning.', '●', 'Built', 'a', 'text', 'recognition', 'system', 'using', 'Python', 'and', 'TensorFlow', ',', 'achieving', '88', '%', 'accuracy', 'on', 'the', 'test', 'dataset.', '●', 'Developed', 'and', 'trained', 'a', 'convolutional', 'neural', 'network', '(', 'CNN', ')', 'for', 'optical', 'character', 'recognition', '(', 'OCR', ')', 'with', 'preprocessed', 'image', 'data.', '●', 'Implemented', 'data', 'augmentation', 'and', 'model', 'optimization', 'techniques', 'to', 'enhance', 'performance', 'and', 'accuracy.', 'CERTIFICATIONS', '●', '[', 'Link', ']', 'IBM', 'DevOps', 'and', 'Software', 'Engineering', '●', '[', 'Link', ']', 'Google', 'AI', 'Essentials']\n",
            "['Prafull', 'Bhoirkar', 'pcbhoirkar@gmail.com', '|', '+', '91', '8805167459', '|', 'Pune', ',', 'India', '|', 'LinkedIn', 'EDUCATION', 'Vishwakarma', 'Institute', 'of', 'Information', 'Technology', ',', 'Pune', 'B.Tech', 'in', 'Computer', 'Science', 'Engineering', '(', 'Artificial', 'Intelligence', ')', '-', 'CGPA', ':', '8.67', 'June', '2022', '-', 'June', '2026', '●', 'Coursework', ':', 'Object', 'Oriented', 'Programming', ',', 'Data', 'Structures', 'and', 'Algorithms', ',', 'Database', 'Systems', ',', 'Computer', 'Networks', ',', 'Web', 'Technology', ',', 'Artificial', 'Intelligence', ',', 'Operating', 'Systems', 'R', '.', 'R', '.', 'Shinde', 'Jr', '.', 'College', ',', 'Hadapsar', 'Grade', '12', 'Score', ':', '73.5', '%', 'Sadhana', 'Vidyalaya', ',', 'Hadapsar', 'Grade', '10', 'Score', ':', '96.4', '%', 'EXPERINCE', 'UST', '-', 'Machine', 'Learning', 'Engineering', 'Intern', 'Aug', '2024', '-', 'Nov', '2024', '●', 'Developed', 'a', 'multimodal', 'model', 'for', 'early', 'autism', 'detection', 'in', 'children', 'using', 'VGG', '16', 'for', 'feature', 'extraction', 'and', 'a', 'Random', 'Forest', 'classifier', '.', '●', 'Achieved', 'an', 'accuracy', 'of', '88.34', '%', 'by', 'integrating', 'image-based', 'and', 'behavioral', 'data', 'for', 'improved', 'predictive', 'performance', '.', '●', 'Implemented', 'data', 'preprocessing', ',', 'model', 'training', ',', 'and', 'evaluation', 'pipelines', ',', 'focusing', 'on', 'feature', 'optimization', 'and', 'model', 'interpretability', '.', 'TECHNICAL', 'SKILLS', '●', 'Programming', 'Languages', '-', 'Python', '-', '(', 'Pandas', ',', 'numpy', ',', 'Matplotlib', ',', 'TensorFlow', ')', ',', 'Java', ',', 'C', ',', 'C', '+', '+', '.', '●', 'Web', 'Development', '-', 'HTML', ',', 'CSS', ',', 'Javascript', ',', 'Node.js', ',', 'ReactJS', '.', '●', 'Databases', '-', 'MySQL', ',', 'MongoDB', '.', 'PROJECTS', 'Society', 'Management', 'Application', 'Tech', 'Stack', ':', 'HTML', ',', 'CSS', ',', 'JS', ',', 'React', ',', 'Firebase', '.', '●', 'Developed', 'Society', 'Management', 'Application', 'to', 'streamline', 'communication', 'and', 'operations', 'with', 'residential', 'societies', '●', 'Integrated', 'Firebase', 'for', 'real-time', 'database', 'functionalities', 'and', 'notifications', '.', '●', 'Ensured', 'secure', 'login', 'and', 'data', 'management', 'to', 'protect', 'user', 'information', '.', 'Text', 'Editor', 'Tech', 'Stack', ':', 'Java', '.', '●', 'Developed', 'a', 'text', 'editor', 'application', 'using', 'Java', 'and', 'Swing', ',', 'implementing', 'core', 'functionalities', 'like', 'create', ',', 'open', ',', 'save', ',', 'and', 'edit', 'text', 'files', '.', '●', 'Integrated', 'features', 'such', 'as', 'text', 'formatting', ',', 'find', '/', 'replace', ',', 'and', 'word', 'count', 'with', 'a', 'responsive', ',', 'user-friendly', 'interface', '.', '●', 'Utilized', 'Java', 'I', '/', 'O', 'Streams', 'and', 'event-driven', 'programming', 'for', 'efficient', 'file', 'handling', 'and', 'interactive', 'user', 'actions', '.', 'Text', 'Recognition', 'Tech', 'Stack', ':', 'CNN', ',', 'TensorFlow', ',', 'Deep', 'Learning', '.', '●', 'Built', 'a', 'text', 'recognition', 'system', 'using', 'Python', 'and', 'TensorFlow', ',', 'achieving', '88', '%', 'accuracy', 'on', 'the', 'test', 'dataset', '.', '●', 'Developed', 'and', 'trained', 'a', 'convolutional', 'neural', 'network', '(', 'CNN', ')', 'for', 'optical', 'character', 'recognition', '(', 'OCR', ')', 'with', 'preprocessed', 'image', 'data', '.', '●', 'Implemented', 'data', 'augmentation', 'and', 'model', 'optimization', 'techniques', 'to', 'enhance', 'performance', 'and', 'accuracy', '.', 'CERTIFICATIONS', '●', '[', 'Link', ']', 'IBM', 'DevOps', 'and', 'Software', 'Engineering', '●', '[', 'Link', ']', 'Google', 'AI', 'Essentials']\n",
            "['Prafull', 'Bhoirkar', 'pcbhoirkar', '@', 'gmail.com', '|', '+91', '8805167459|', 'Pune', ',', 'India', '|', 'LinkedIn', 'EDUCATION', 'Vishwakarma', 'Institute', 'of', 'Information', 'Technology', ',', 'Pune', 'B.Tech', 'in', 'Computer', 'Science', 'Engineering', '(', 'Artificial', 'Intelligence', ')', '-', 'CGPA', ':', '8.67', 'June', '2022', '-', 'June', '2026', '●', 'Coursework', ':', 'Object', 'Oriented', 'Programming', ',', 'Data', 'Structures', 'and', 'Algorithms', ',', 'Database', 'Systems', ',', 'Computer', 'Networks', ',', 'Web', 'Technology', ',', 'Artificial', 'Intelligence', ',', 'Operating', 'Systems', 'R.', 'R.', 'Shinde', 'Jr.', 'College', ',', 'Hadapsar', 'Grade', '12', 'Score', ':', '73.5', '%', 'Sadhana', 'Vidyalaya', ',', 'Hadapsar', 'Grade', '10', 'Score', ':', '96.4', '%', 'EXPERINCE', 'UST', '-', 'Machine', 'Learning', 'Engineering', 'Intern', 'Aug', '2024', '-', 'Nov', '2024', '●', 'Developed', 'a', 'multimodal', 'model', 'for', 'early', 'autism', 'detection', 'in', 'children', 'using', 'VGG16', 'for', 'feature', 'extraction', 'and', 'a', 'Random', 'Forest', 'classifier', '.', '●', 'Achieved', 'an', 'accuracy', 'of', '88.34', '%', 'by', 'integrating', 'image-based', 'and', 'behavioral', 'data', 'for', 'improved', 'predictive', 'performance', '.', '●', 'Implemented', 'data', 'preprocessing', ',', 'model', 'training', ',', 'and', 'evaluation', 'pipelines', ',', 'focusing', 'on', 'feature', 'optimization', 'and', 'model', 'interpretability', '.', 'TECHNICAL', 'SKILLS', '●', 'Programming', 'Languages', '-', 'Python', '-', '(', 'Pandas', ',', 'numpy', ',', 'Matplotlib', ',', 'TensorFlow', ')', ',', 'Java', ',', 'C', ',', 'C++', '.', '●', 'Web', 'Development', '-', 'HTML', ',', 'CSS', ',', 'Javascript', ',', 'Node.js', ',', 'ReactJS', '.', '●', 'Databases', '-', 'MySQL', ',', 'MongoDB', '.', 'PROJECTS', 'Society', 'Management', 'Application', 'Tech_Stack', ':', 'HTML', ',', 'CSS', ',', 'JS', ',', 'React', ',', 'Firebase', '.', '●', 'Developed', 'Society', 'Management', 'Application', 'to', 'streamline', 'communication', 'and', 'operations', 'with', 'residential', 'societies', '●', 'Integrated', 'Firebase', 'for', 'real-time', 'database', 'functionalities', 'and', 'notifications', '.', '●', 'Ensured', 'secure', 'login', 'and', 'data', 'management', 'to', 'protect', 'user', 'information', '.', 'Text', 'Editor', 'Tech_Stack', ':', 'Java', '.', '●', 'Developed', 'a', 'text', 'editor', 'application', 'using', 'Java', 'and', 'Swing', ',', 'implementing', 'core', 'functionalities', 'like', 'create', ',', 'open', ',', 'save', ',', 'and', 'edit', 'text', 'files', '.', '●', 'Integrated', 'features', 'such', 'as', 'text', 'formatting', ',', 'find/replace', ',', 'and', 'word', 'count', 'with', 'a', 'responsive', ',', 'user-friendly', 'interface', '.', '●', 'Utilized', 'Java', 'I/O', 'Streams', 'and', 'event-driven', 'programming', 'for', 'efficient', 'file', 'handling', 'and', 'interactive', 'user', 'actions', '.', 'Text', 'Recognition', 'Tech_Stack', ':', 'CNN', ',', 'TensorFlow', ',', 'Deep', 'Learning', '.', '●', 'Built', 'a', 'text', 'recognition', 'system', 'using', 'Python', 'and', 'TensorFlow', ',', 'achieving', '88', '%', 'accuracy', 'on', 'the', 'test', 'dataset', '.', '●', 'Developed', 'and', 'trained', 'a', 'convolutional', 'neural', 'network', '(', 'CNN', ')', 'for', 'optical', 'character', 'recognition', '(', 'OCR', ')', 'with', 'preprocessed', 'image', 'data', '.', '●', 'Implemented', 'data', 'augmentation', 'and', 'model', 'optimization', 'techniques', 'to', 'enhance', 'performance', 'and', 'accuracy', '.', 'CERTIFICATIONS', '●', '[', 'Link', ']', 'IBM', 'DevOps', 'and', 'Software', 'Engineering', '●', '[', 'Link', ']', 'Google', 'AI', 'Essentials']\n"
          ]
        }
      ]
    }
  ]
}