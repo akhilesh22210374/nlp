{
  "nbformat": 4,
  "nbformat_minor": 0,
  "metadata": {
    "colab": {
      "provenance": [],
      "authorship_tag": "ABX9TyOBtadaLWxZOtFxkF+rgjCB",
      "include_colab_link": true
    },
    "kernelspec": {
      "name": "python3",
      "display_name": "Python 3"
    },
    "language_info": {
      "name": "python"
    }
  },
  "cells": [
    {
      "cell_type": "markdown",
      "metadata": {
        "id": "view-in-github",
        "colab_type": "text"
      },
      "source": [
        "<a href=\"https://colab.research.google.com/github/Prafull009/NLP/blob/main/NLPAssign5.ipynb\" target=\"_parent\"><img src=\"https://colab.research.google.com/assets/colab-badge.svg\" alt=\"Open In Colab\"/></a>"
      ]
    },
    {
      "cell_type": "code",
      "execution_count": 18,
      "metadata": {
        "id": "qEocnlW3YVmP"
      },
      "outputs": [],
      "source": [
        "morphology_rules = {\n",
        "    \"happy\": {\"add_suffix\": \"ness\", \"delete_suffix\": \"y\", \"replace\": \"i\", \"new_word\": \"happiness\"},\n",
        "    \"teach\": {\"add_suffix\": \"er\", \"delete_suffix\": \"er\", \"replace\": \"\", \"new_word\": \"teacher\"},\n",
        "    \"kind\": {\"add_prefix\": \"un\", \"delete_prefix\": \"un\", \"replace\": \"\", \"new_word\": \"unkind\"},\n",
        "    \"act\": {\"add_prefix\": \"re\", \"delete_prefix\": \"re\", \"replace\": \"\", \"new_word\": \"react\"},\n",
        "    \"friend\": {\"add_suffix\": \"ship\", \"delete_suffix\": \"ship\", \"replace\": \"\", \"new_word\": \"friendship\"},\n",
        "    \"move\": {\"add_suffix\": \"ment\", \"delete_suffix\": \"ment\", \"replace\": \"\", \"new_word\": \"movement\"},\n",
        "    \"legal\": {\"add_suffix\": \"ize\", \"delete_suffix\": \"ize\", \"replace\": \"\", \"new_word\": \"legalize\"},\n",
        "    \"child\": {\"add_suffix\": \"hood\", \"delete_suffix\": \"hood\", \"replace\": \"\", \"new_word\": \"childhood\"},\n",
        "    \"agree\": {\"add_prefix\": \"dis\", \"delete_prefix\": \"dis\", \"replace\": \"\", \"new_word\": \"disagree\"},\n",
        "    \"able\": {\"add_suffix\": \"ity\", \"delete_suffix\": \"ity\", \"replace\": \"\", \"new_word\": \"ability\"}\n",
        "}"
      ]
    },
    {
      "cell_type": "code",
      "source": [
        "def apply_morphology(word, action):\n",
        "    if word in morphology_rules:\n",
        "        rule = morphology_rules[word]\n",
        "\n",
        "        if action == \"add\":\n",
        "            if \"add_suffix\" in rule:\n",
        "                if rule[\"replace\"]:\n",
        "                    return word.replace(rule[\"delete_suffix\"], rule[\"replace\"]) + rule[\"add_suffix\"]\n",
        "                return word + rule[\"add_suffix\"]\n",
        "\n",
        "            if \"add_prefix\" in rule:\n",
        "                return rule[\"add_prefix\"] + word\n",
        "\n",
        "        elif action == \"delete\":\n",
        "            if \"delete_suffix\" in rule:\n",
        "                if rule[\"replace\"]:\n",
        "                    return word.replace(rule[\"replace\"], rule[\"delete_suffix\"])\n",
        "                return word.replace(rule[\"delete_suffix\"], \"\")\n",
        "\n",
        "            if \"delete_prefix\" in rule and word.startswith(rule[\"delete_prefix\"]):\n",
        "                return word[len(rule[\"delete_prefix\"]):]\n",
        "\n",
        "    return word"
      ],
      "metadata": {
        "id": "mo_ThKSvZdXg"
      },
      "execution_count": 21,
      "outputs": []
    },
    {
      "cell_type": "code",
      "source": [
        "words = list(morphology_rules.keys())\n",
        "\n",
        "print(f\"{'Base Word':<10} {'Add Morpheme':<15} {'New Word':<15} {'Delete Morpheme':<15} {'Word After Deletion':<15}\")\n",
        "print(\"=\"*75)\n",
        "\n",
        "for word in words:\n",
        "    new_word = apply_morphology(word, \"add\")\n",
        "    deleted_word = apply_morphology(new_word, \"delete\")\n",
        "\n",
        "    print(f\"{word:<10} {morphology_rules[word].get('add_prefix', '') + morphology_rules[word].get('add_suffix', ''):<15} \"\n",
        "          f\"{new_word:<15} {morphology_rules[word].get('delete_prefix', '') + morphology_rules[word].get('delete_suffix', ''):<15} \"\n",
        "          f\"{deleted_word:<15}\")"
      ],
      "metadata": {
        "colab": {
          "base_uri": "https://localhost:8080/"
        },
        "id": "Dg9BG4KvZ7kh",
        "outputId": "7aa1f199-1778-44ec-c794-748dd95936a7"
      },
      "execution_count": 20,
      "outputs": [
        {
          "output_type": "stream",
          "name": "stdout",
          "text": [
            "Base Word  Add Morpheme    New Word        Delete Morpheme Word After Deletion\n",
            "===========================================================================\n",
            "happy      ness            happiness       y               happiness      \n",
            "teach      er              teacher         er              teacher        \n",
            "kind       un              unkind          un              unkind         \n",
            "act        re              react           re              react          \n",
            "friend     ship            friendship      ship            friendship     \n",
            "move       ment            movement        ment            movement       \n",
            "legal      ize             legalize        ize             legalize       \n",
            "child      hood            childhood       hood            childhood      \n",
            "agree      dis             disagree        dis             disagree       \n",
            "able       ity             ableity         ity             ableity        \n"
          ]
        }
      ]
    }
  ]
}