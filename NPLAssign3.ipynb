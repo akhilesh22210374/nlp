{
  "nbformat": 4,
  "nbformat_minor": 0,
  "metadata": {
    "colab": {
      "provenance": [],
      "authorship_tag": "ABX9TyOrc2jduYnRPia+A9B+AvCW",
      "include_colab_link": true
    },
    "kernelspec": {
      "name": "python3",
      "display_name": "Python 3"
    },
    "language_info": {
      "name": "python"
    }
  },
  "cells": [
    {
      "cell_type": "markdown",
      "metadata": {
        "id": "view-in-github",
        "colab_type": "text"
      },
      "source": [
        "<a href=\"https://colab.research.google.com/github/Prafull009/NLP/blob/main/NPLAssign3.ipynb\" target=\"_parent\"><img src=\"https://colab.research.google.com/assets/colab-badge.svg\" alt=\"Open In Colab\"/></a>"
      ]
    },
    {
      "cell_type": "code",
      "execution_count": 2,
      "metadata": {
        "id": "BWn0CPJrj8O2"
      },
      "outputs": [],
      "source": [
        "import nltk\n",
        "import re\n",
        "import pickle\n",
        "import numpy as np\n",
        "import pandas as pd\n",
        "from nltk.corpus import stopwords\n",
        "from nltk.tokenize import word_tokenize\n",
        "from nltk.stem import WordNetLemmatizer\n",
        "from sklearn.preprocessing import LabelEncoder\n",
        "from sklearn.feature_extraction.text import TfidfVectorizer\n",
        "from scipy.sparse import save_npz"
      ]
    },
    {
      "cell_type": "code",
      "source": [
        "nltk.download('punkt')\n",
        "nltk.download('punkt_tab')\n",
        "nltk.download('stopwords')\n",
        "nltk.download('wordnet')"
      ],
      "metadata": {
        "colab": {
          "base_uri": "https://localhost:8080/"
        },
        "id": "JI9iCep_kzzw",
        "outputId": "b6871bab-9a8d-4dac-879b-22abcccb4f10"
      },
      "execution_count": 13,
      "outputs": [
        {
          "output_type": "stream",
          "name": "stderr",
          "text": [
            "[nltk_data] Downloading package punkt to /root/nltk_data...\n",
            "[nltk_data]   Package punkt is already up-to-date!\n",
            "[nltk_data] Downloading package punkt_tab to /root/nltk_data...\n",
            "[nltk_data]   Unzipping tokenizers/punkt_tab.zip.\n",
            "[nltk_data] Downloading package stopwords to /root/nltk_data...\n",
            "[nltk_data]   Package stopwords is already up-to-date!\n",
            "[nltk_data] Downloading package wordnet to /root/nltk_data...\n",
            "[nltk_data]   Package wordnet is already up-to-date!\n"
          ]
        },
        {
          "output_type": "execute_result",
          "data": {
            "text/plain": [
              "True"
            ]
          },
          "metadata": {},
          "execution_count": 13
        }
      ]
    },
    {
      "cell_type": "code",
      "source": [
        "def read_file(file_path):\n",
        "  with open(file_path, 'r') as file:\n",
        "    text = file.read()\n",
        "  return text"
      ],
      "metadata": {
        "id": "YV1OCNEdlU3j"
      },
      "execution_count": 5,
      "outputs": []
    },
    {
      "cell_type": "code",
      "source": [
        "def clean_text(text):\n",
        "  text = text.lower()\n",
        "  text = re.sub(r'[^a-z\\s]', '', text)\n",
        "  return text"
      ],
      "metadata": {
        "id": "SWZJ0yCcVEJY"
      },
      "execution_count": 6,
      "outputs": []
    },
    {
      "cell_type": "code",
      "source": [
        "lemmatizer = WordNetLemmatizer()\n",
        "stop_words = set(stopwords.words('english'))"
      ],
      "metadata": {
        "id": "6w4xbakUl2ZY"
      },
      "execution_count": 7,
      "outputs": []
    },
    {
      "cell_type": "code",
      "source": [
        "def preprocess_text(text):\n",
        "  tokens = word_tokenize(text)\n",
        "  tokens = [lemmatizer.lemmatize(word) for word in tokens if word not in stop_words]\n",
        "  return ' '.join(tokens)"
      ],
      "metadata": {
        "id": "tkvqaEj7VR-7"
      },
      "execution_count": 17,
      "outputs": []
    },
    {
      "cell_type": "code",
      "source": [
        "data = pd.DataFrame({\n",
        "    'text': [\n",
        "        \"I love programming! It's amazing\",\n",
        "        \"Python is great for machine learning\",\n",
        "        \"Natural Language Processing is fun!\",\n",
        "        \"Deep Learning is subset of Machine Learning\",\n",
        "    ],\n",
        "    'label': ['positive', 'neutral', 'positive', 'neutral']\n",
        "})"
      ],
      "metadata": {
        "id": "ogkpErTYVx3o"
      },
      "execution_count": 10,
      "outputs": []
    },
    {
      "cell_type": "code",
      "source": [
        "data['cleaned_text'] = data['text'].apply(clean_text)\n",
        "data['preprocessed_text'] = data['cleaned_text'].apply(preprocess_text)"
      ],
      "metadata": {
        "id": "6A-E6EAAVnXs"
      },
      "execution_count": 18,
      "outputs": []
    },
    {
      "cell_type": "code",
      "source": [
        "label_encoder = LabelEncoder()\n",
        "data['label_encoded'] = label_encoder.fit_transform(data['label'])"
      ],
      "metadata": {
        "id": "_RNvB8MQWqTA"
      },
      "execution_count": 19,
      "outputs": []
    },
    {
      "cell_type": "code",
      "source": [
        "with open('label_encoder.pkl', 'wb') as encoder_file:\n",
        "  pickle.dump(label_encoder, encoder_file)"
      ],
      "metadata": {
        "id": "fPCZNxKZXMZs"
      },
      "execution_count": 20,
      "outputs": []
    },
    {
      "cell_type": "code",
      "source": [
        "vectorizer = TfidfVectorizer()\n",
        "X = vectorizer.fit_transform(data['preprocessed_text'])"
      ],
      "metadata": {
        "id": "mbvQUD4CXPxL"
      },
      "execution_count": 21,
      "outputs": []
    },
    {
      "cell_type": "code",
      "source": [
        "save_npz('tfidf_matrix.npz', X)"
      ],
      "metadata": {
        "id": "9uCKp3D0XTIB"
      },
      "execution_count": 22,
      "outputs": []
    },
    {
      "cell_type": "code",
      "source": [
        "with open(\"tfidf_vocab.pkl\", \"wb\") as vocab_file:\n",
        "  pickle.dump(vectorizer.vocabulary_, vocab_file)"
      ],
      "metadata": {
        "id": "aDqWr7eQXZhP"
      },
      "execution_count": 23,
      "outputs": []
    },
    {
      "cell_type": "code",
      "source": [
        "print(\"Processed DataFrame: \\n\", data[['text', 'preprocessed_text', 'label_encoded']])\n",
        "print(\"TFIDF Matrix Shape: \\n\", X.shape)"
      ],
      "metadata": {
        "colab": {
          "base_uri": "https://localhost:8080/"
        },
        "id": "-pjrXyzwXmT2",
        "outputId": "7cd1325d-7f3b-4eca-c471-5be085ab9492"
      },
      "execution_count": 26,
      "outputs": [
        {
          "output_type": "stream",
          "name": "stdout",
          "text": [
            "Processed DataFrame: \n",
            "                                           text  \\\n",
            "0             I love programming! It's amazing   \n",
            "1         Python is great for machine learning   \n",
            "2          Natural Language Processing is fun!   \n",
            "3  Deep Learning is subset of Machine Learning   \n",
            "\n",
            "                       preprocessed_text  label_encoded  \n",
            "0               love programming amazing              1  \n",
            "1          python great machine learning              0  \n",
            "2        natural language processing fun              1  \n",
            "3  deep learning subset machine learning              0  \n",
            "TFIDF Matrix Shape: \n",
            " (4, 13)\n"
          ]
        }
      ]
    }
  ]
}